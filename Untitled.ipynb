{
 "cells": [
  {
   "cell_type": "code",
   "execution_count": null,
   "id": "61bcc7da",
   "metadata": {},
   "outputs": [],
   "source": [
    "<div class=\"match-line__result match-line__result--left match-line__result--right\">\n",
    "              <div class=\"match-line__club-special\">\n",
    "                      <div class=\"match-line__club-special-icon match-line__club-special-icon--active\">\n",
    "              Bo\n",
    "            </div>\n",
    "                  </div>\n",
    "                    <div class=\"match-line__score-wrapper\">\n",
    "                    <div class=\"match-line__score\">\n",
    "            23 - 18\n",
    "          </div>\n",
    "        </div>\n",
    "                                <div class=\"match-line__club-special\">\n",
    "                      <div class=\"match-line__club-special-icon match-line__club-special-icon--active\">\n",
    "              Bd\n",
    "            </div>\n",
    "                  </div>\n",
    "          </div>"
   ]
  },
  {
   "cell_type": "code",
   "execution_count": null,
   "id": "819ffb40",
   "metadata": {},
   "outputs": [],
   "source": [
    "<div class=\"match-line__result match-line__result--right\">\n",
    "                    <div class=\"match-line__score-wrapper\">\n",
    "                    <div class=\"match-line__score\">\n",
    "            11 - 6\n",
    "          </div>\n",
    "        </div>\n",
    "                                <div class=\"match-line__club-special\">\n",
    "                      <div class=\"match-line__club-special-icon match-line__club-special-icon--active\">\n",
    "              Bd\n",
    "            </div>\n",
    "                  </div>\n",
    "          </div>"
   ]
  },
  {
   "cell_type": "code",
   "execution_count": 6,
   "id": "c35fb38a",
   "metadata": {},
   "outputs": [
    {
     "name": "stdout",
     "output_type": "stream",
     "text": [
      "range(0, 31)\n"
     ]
    }
   ],
   "source": [
    "print(range(31))"
   ]
  },
  {
   "cell_type": "code",
   "execution_count": null,
   "id": "ce05e96d",
   "metadata": {},
   "outputs": [],
   "source": []
  }
 ],
 "metadata": {
  "kernelspec": {
   "display_name": "Python 3 (ipykernel)",
   "language": "python",
   "name": "python3"
  },
  "language_info": {
   "codemirror_mode": {
    "name": "ipython",
    "version": 3
   },
   "file_extension": ".py",
   "mimetype": "text/x-python",
   "name": "python",
   "nbconvert_exporter": "python",
   "pygments_lexer": "ipython3",
   "version": "3.10.6"
  },
  "toc": {
   "base_numbering": 1,
   "nav_menu": {},
   "number_sections": true,
   "sideBar": true,
   "skip_h1_title": false,
   "title_cell": "Table of Contents",
   "title_sidebar": "Contents",
   "toc_cell": false,
   "toc_position": {},
   "toc_section_display": true,
   "toc_window_display": false
  }
 },
 "nbformat": 4,
 "nbformat_minor": 5
}
